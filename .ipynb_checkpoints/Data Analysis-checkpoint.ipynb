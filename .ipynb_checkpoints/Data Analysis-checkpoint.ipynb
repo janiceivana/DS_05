{
 "cells": [
  {
   "cell_type": "code",
   "execution_count": 1,
   "id": "8ca2e916",
   "metadata": {},
   "outputs": [],
   "source": [
    "import pandas as pd  \n",
    "\n",
    "import matplotlib.pylab as plt  \n",
    "\n",
    "%matplotlib inline  \n",
    "\n",
    "import numpy as np  \n",
    "\n",
    "from scipy.stats import linregress  \n",
    "\n",
    "import scipy.stats as stats  \n",
    "\n",
    "from sklearn.tree import DecisionTreeClassifier  \n",
    "\n",
    "from sklearn.metrics import confusion_matrix  \n",
    "\n",
    "from matplotlib.colors import ListedColormap  \n",
    "\n",
    "from sklearn.ensemble import RandomForestClassifier  \n",
    "\n",
    "from sklearn.cluster import KMeans  \n",
    "\n",
    "from sklearn.preprocessing import StandardScaler  \n",
    "\n",
    "from sklearn.model_selection import train_test_split "
   ]
  },
  {
   "cell_type": "code",
   "execution_count": null,
   "id": "85962890",
   "metadata": {},
   "outputs": [],
   "source": []
  }
 ],
 "metadata": {
  "kernelspec": {
   "display_name": "Python 3 (ipykernel)",
   "language": "python",
   "name": "python3"
  },
  "language_info": {
   "codemirror_mode": {
    "name": "ipython",
    "version": 3
   },
   "file_extension": ".py",
   "mimetype": "text/x-python",
   "name": "python",
   "nbconvert_exporter": "python",
   "pygments_lexer": "ipython3",
   "version": "3.9.12"
  }
 },
 "nbformat": 4,
 "nbformat_minor": 5
}
