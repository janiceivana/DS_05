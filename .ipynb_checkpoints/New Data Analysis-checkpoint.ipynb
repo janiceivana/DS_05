{
 "cells": [
  {
   "cell_type": "code",
   "execution_count": null,
   "id": "cb249fc7",
   "metadata": {},
   "outputs": [],
   "source": [
    "import pandas as pd  \n",
    "import matplotlib.pylab as plt  \n",
    "%matplotlib inline  \n",
    "import numpy as np  \n",
    "from scipy.stats import linregress  \n",
    "import scipy.stats as stats  \n",
    "from sklearn.tree import DecisionTreeClassifier  \n",
    "from sklearn.metrics import confusion_matrix  \n",
    "from matplotlib.colors import ListedColormap  \n",
    "from sklearn.ensemble import RandomForestClassifier  \n",
    "from sklearn.cluster import KMeans  \n",
    "from sklearn.preprocessing import StandardScaler  \n",
    "from sklearn.model_selection import train_test_split  \n"
   ]
  },
  {
   "cell_type": "code",
   "execution_count": null,
   "id": "4a728e02",
   "metadata": {},
   "outputs": [],
   "source": [
    "# Read CSV files from Wendy directories\n",
    "calendar = pd.read_csv(r\"D:\\\\year3\\\\FIT3163\\\\Project\\\\calendar.csv\")\n",
    "evaluation = pd.read_csv(r\"D:\\\\year3\\\\FIT3163\\\\Project\\\\sales_train_evaluation.csv\")\n",
    "validation = pd.read_csv(r\"D:\\\\year3\\\\FIT3163\\\\Project\\\\sales_train_validation.csv\")\n",
    "prices = pd.read_csv(r\"D:\\\\year3\\\\FIT3163\\\\Project\\\\sell_prices.csv\")\n"
   ]
  },
  {
   "cell_type": "code",
   "execution_count": null,
   "id": "485d9688",
   "metadata": {},
   "outputs": [],
   "source": [
    "# Read CSV files from Janice's directory\n",
    "calendar = pd.read_csv(r\"D:\\\\YEAR 3\\\\Semester 1\\\\FIT3163\\\\calendar.csv\")\n",
    "evaluation = pd.read_csv(r\"D:\\\\YEAR 3\\\\Semester 1\\\\FIT3163\\\\sales_train_evaluation.csv\")\n",
    "validation = pd.read_csv(r\"D:\\\\YEAR 3\\\\Semester 1\\\\FIT3163\\\\sales_train_validation.csv\")\n",
    "prices = pd.read_csv(r\"D:\\\\YEAR 3\\\\Semester 1\\\\FIT3163\\\\sell_prices.csv\")\n",
    "sample = pd.read_csv(r\"D:\\\\YEAR 3\\\\Semester 1\\\\FIT3163\\\\sample_submission.csv\")\n",
    "\n"
   ]
  },
  {
   "cell_type": "code",
   "execution_count": null,
   "id": "7dc003fe",
   "metadata": {},
   "outputs": [],
   "source": [
    "# Display information about the sample DataFrame\n",
    "sample.info()"
   ]
  },
  {
   "cell_type": "code",
   "execution_count": null,
   "id": "b6e32426",
   "metadata": {},
   "outputs": [],
   "source": [
    "include = ['object', 'float', 'int']\n",
    "sample.describe(include=include)"
   ]
  },
  {
   "cell_type": "code",
   "execution_count": null,
   "id": "5210622e",
   "metadata": {},
   "outputs": [],
   "source": [
    "sample.isnull().any()"
   ]
  },
  {
   "cell_type": "code",
   "execution_count": null,
   "id": "b0a114f3",
   "metadata": {},
   "outputs": [],
   "source": [
    "calendar.info()"
   ]
  },
  {
   "cell_type": "code",
   "execution_count": null,
   "id": "a738fa61",
   "metadata": {},
   "outputs": [],
   "source": [
    "include = ['object', 'float', 'int']\n",
    "calendar.describe(include=include)"
   ]
  },
  {
   "cell_type": "code",
   "execution_count": null,
   "id": "bec42bcf",
   "metadata": {},
   "outputs": [],
   "source": [
    "calendar.isnull().any()"
   ]
  },
  {
   "cell_type": "code",
   "execution_count": null,
   "id": "f10bd925",
   "metadata": {},
   "outputs": [],
   "source": [
    "evaluation.info()"
   ]
  },
  {
   "cell_type": "code",
   "execution_count": null,
   "id": "d435b8a5",
   "metadata": {},
   "outputs": [],
   "source": [
    "include = ['object', 'float', 'int']\n",
    "evaluation.describe(include=include)"
   ]
  },
  {
   "cell_type": "code",
   "execution_count": null,
   "id": "50f58e54",
   "metadata": {},
   "outputs": [],
   "source": [
    "evaluation.isnull().any()"
   ]
  },
  {
   "cell_type": "code",
   "execution_count": null,
   "id": "9c5b2c86",
   "metadata": {},
   "outputs": [],
   "source": [
    "validation.info()"
   ]
  },
  {
   "cell_type": "code",
   "execution_count": null,
   "id": "047f67ec",
   "metadata": {},
   "outputs": [],
   "source": [
    "include = ['object', 'float', 'int']\n",
    "validation.describe(include=include)"
   ]
  },
  {
   "cell_type": "code",
   "execution_count": null,
   "id": "9bbc4cb1",
   "metadata": {},
   "outputs": [],
   "source": [
    "validation.isnull().any()"
   ]
  },
  {
   "cell_type": "code",
   "execution_count": null,
   "id": "ba415ff0",
   "metadata": {},
   "outputs": [],
   "source": [
    "prices.info()"
   ]
  },
  {
   "cell_type": "code",
   "execution_count": null,
   "id": "f747c2a5",
   "metadata": {},
   "outputs": [],
   "source": [
    "include = ['object', 'float', 'int']\n",
    "prices.describe(include=include)"
   ]
  },
  {
   "cell_type": "code",
   "execution_count": null,
   "id": "b5a25fea",
   "metadata": {},
   "outputs": [],
   "source": [
    "prices.isnull().any()"
   ]
  }
 ],
 "metadata": {
  "kernelspec": {
   "display_name": "Python 3 (ipykernel)",
   "language": "python",
   "name": "python3"
  },
  "language_info": {
   "codemirror_mode": {
    "name": "ipython",
    "version": 3
   },
   "file_extension": ".py",
   "mimetype": "text/x-python",
   "name": "python",
   "nbconvert_exporter": "python",
   "pygments_lexer": "ipython3",
   "version": "3.9.12"
  }
 },
 "nbformat": 4,
 "nbformat_minor": 5
}
