{
 "cells": [
  {
   "cell_type": "code",
   "execution_count": 1,
   "metadata": {
    "collapsed": true,
    "pycharm": {
     "name": "#%%\n"
    }
   },
   "outputs": [],
   "source": [
    "import pandas as pd\n",
    "import seaborn as se\n",
    "from IPython.display import display\n",
    "import matplotlib as plt\n"
   ]
  },
  {
   "cell_type": "code",
   "execution_count": 11,
   "outputs": [],
   "source": [
    "sell_price = pd.DataFrame(pd.read_csv(\"sell_prices.csv\"))\n",
    "calendar = pd.DataFrame(pd.read_csv(\"calendar.csv\"))\n",
    "sales_train_evaluation =  pd.DataFrame(pd.read_csv(\"sales_train_evaluation.csv\"))\n"
   ],
   "metadata": {
    "collapsed": false,
    "pycharm": {
     "name": "#%%\n"
    }
   }
  },
  {
   "cell_type": "code",
   "execution_count": 2,
   "outputs": [
    {
     "data": {
      "text/plain": "        store_id        item_id  wm_yr_wk  sell_price catergory subtype  \\\n0           CA_1  HOBBIES_1_001     11325        9.58   HOBBIES       1   \n1           CA_1  HOBBIES_1_001     11326        9.58   HOBBIES       1   \n2           CA_1  HOBBIES_1_001     11327        8.26   HOBBIES       1   \n3           CA_1  HOBBIES_1_001     11328        8.26   HOBBIES       1   \n4           CA_1  HOBBIES_1_001     11329        8.26   HOBBIES       1   \n...          ...            ...       ...         ...       ...     ...   \n6841116     WI_3    FOODS_3_827     11617        1.00     FOODS       3   \n6841117     WI_3    FOODS_3_827     11618        1.00     FOODS       3   \n6841118     WI_3    FOODS_3_827     11619        1.00     FOODS       3   \n6841119     WI_3    FOODS_3_827     11620        1.00     FOODS       3   \n6841120     WI_3    FOODS_3_827     11621        1.00     FOODS       3   \n\n        item_no  \n0           001  \n1           001  \n2           001  \n3           001  \n4           001  \n...         ...  \n6841116     827  \n6841117     827  \n6841118     827  \n6841119     827  \n6841120     827  \n\n[6841121 rows x 7 columns]",
      "text/html": "<div>\n<style scoped>\n    .dataframe tbody tr th:only-of-type {\n        vertical-align: middle;\n    }\n\n    .dataframe tbody tr th {\n        vertical-align: top;\n    }\n\n    .dataframe thead th {\n        text-align: right;\n    }\n</style>\n<table border=\"1\" class=\"dataframe\">\n  <thead>\n    <tr style=\"text-align: right;\">\n      <th></th>\n      <th>store_id</th>\n      <th>item_id</th>\n      <th>wm_yr_wk</th>\n      <th>sell_price</th>\n      <th>catergory</th>\n      <th>subtype</th>\n      <th>item_no</th>\n    </tr>\n  </thead>\n  <tbody>\n    <tr>\n      <th>0</th>\n      <td>CA_1</td>\n      <td>HOBBIES_1_001</td>\n      <td>11325</td>\n      <td>9.58</td>\n      <td>HOBBIES</td>\n      <td>1</td>\n      <td>001</td>\n    </tr>\n    <tr>\n      <th>1</th>\n      <td>CA_1</td>\n      <td>HOBBIES_1_001</td>\n      <td>11326</td>\n      <td>9.58</td>\n      <td>HOBBIES</td>\n      <td>1</td>\n      <td>001</td>\n    </tr>\n    <tr>\n      <th>2</th>\n      <td>CA_1</td>\n      <td>HOBBIES_1_001</td>\n      <td>11327</td>\n      <td>8.26</td>\n      <td>HOBBIES</td>\n      <td>1</td>\n      <td>001</td>\n    </tr>\n    <tr>\n      <th>3</th>\n      <td>CA_1</td>\n      <td>HOBBIES_1_001</td>\n      <td>11328</td>\n      <td>8.26</td>\n      <td>HOBBIES</td>\n      <td>1</td>\n      <td>001</td>\n    </tr>\n    <tr>\n      <th>4</th>\n      <td>CA_1</td>\n      <td>HOBBIES_1_001</td>\n      <td>11329</td>\n      <td>8.26</td>\n      <td>HOBBIES</td>\n      <td>1</td>\n      <td>001</td>\n    </tr>\n    <tr>\n      <th>...</th>\n      <td>...</td>\n      <td>...</td>\n      <td>...</td>\n      <td>...</td>\n      <td>...</td>\n      <td>...</td>\n      <td>...</td>\n    </tr>\n    <tr>\n      <th>6841116</th>\n      <td>WI_3</td>\n      <td>FOODS_3_827</td>\n      <td>11617</td>\n      <td>1.00</td>\n      <td>FOODS</td>\n      <td>3</td>\n      <td>827</td>\n    </tr>\n    <tr>\n      <th>6841117</th>\n      <td>WI_3</td>\n      <td>FOODS_3_827</td>\n      <td>11618</td>\n      <td>1.00</td>\n      <td>FOODS</td>\n      <td>3</td>\n      <td>827</td>\n    </tr>\n    <tr>\n      <th>6841118</th>\n      <td>WI_3</td>\n      <td>FOODS_3_827</td>\n      <td>11619</td>\n      <td>1.00</td>\n      <td>FOODS</td>\n      <td>3</td>\n      <td>827</td>\n    </tr>\n    <tr>\n      <th>6841119</th>\n      <td>WI_3</td>\n      <td>FOODS_3_827</td>\n      <td>11620</td>\n      <td>1.00</td>\n      <td>FOODS</td>\n      <td>3</td>\n      <td>827</td>\n    </tr>\n    <tr>\n      <th>6841120</th>\n      <td>WI_3</td>\n      <td>FOODS_3_827</td>\n      <td>11621</td>\n      <td>1.00</td>\n      <td>FOODS</td>\n      <td>3</td>\n      <td>827</td>\n    </tr>\n  </tbody>\n</table>\n<p>6841121 rows × 7 columns</p>\n</div>"
     },
     "metadata": {},
     "output_type": "display_data"
    }
   ],
   "source": [
    "\n",
    "# split sell price: \"item id\" into, category, sub category, item number.\n",
    "\n",
    "sell_price[[\"catergory\", \"subtype\", \"item_no\"]] = sell_price[\"item_id\"].apply(lambda x: pd.Series(str(x).split(\"_\")))\n",
    "display(sell_price)\n"
   ],
   "metadata": {
    "collapsed": false,
    "pycharm": {
     "name": "#%%\n"
    }
   }
  },
  {
   "cell_type": "code",
   "execution_count": 8,
   "outputs": [],
   "source": [
    "sell_price.to_csv(\"sell_price.csv\" )"
   ],
   "metadata": {
    "collapsed": false,
    "pycharm": {
     "name": "#%%\n"
    }
   }
  },
  {
   "cell_type": "markdown",
   "source": [],
   "metadata": {
    "collapsed": false,
    "pycharm": {
     "name": "#%% md\n"
    }
   }
  },
  {
   "cell_type": "code",
   "execution_count": 7,
   "outputs": [
    {
     "data": {
      "text/plain": "   store_id        item_id  wm_yr_wk  sell_price catergory subtype item_no\n0      CA_1  HOBBIES_1_001     11325        9.58   HOBBIES       1     001\n1      CA_1  HOBBIES_1_001     11326        9.58   HOBBIES       1     001\n2      CA_1  HOBBIES_1_001     11327        8.26   HOBBIES       1     001\n3      CA_1  HOBBIES_1_001     11328        8.26   HOBBIES       1     001\n4      CA_1  HOBBIES_1_001     11329        8.26   HOBBIES       1     001\n5      CA_1  HOBBIES_1_001     11330        8.26   HOBBIES       1     001\n6      CA_1  HOBBIES_1_001     11331        8.26   HOBBIES       1     001\n7      CA_1  HOBBIES_1_001     11332        8.26   HOBBIES       1     001\n8      CA_1  HOBBIES_1_001     11333        8.26   HOBBIES       1     001\n9      CA_1  HOBBIES_1_001     11334        8.26   HOBBIES       1     001\n10     CA_1  HOBBIES_1_001     11335        8.26   HOBBIES       1     001\n11     CA_1  HOBBIES_1_001     11336        8.26   HOBBIES       1     001\n12     CA_1  HOBBIES_1_001     11337        8.26   HOBBIES       1     001\n13     CA_1  HOBBIES_1_001     11338        8.26   HOBBIES       1     001\n14     CA_1  HOBBIES_1_001     11339        8.26   HOBBIES       1     001\n15     CA_1  HOBBIES_1_001     11340        8.26   HOBBIES       1     001\n16     CA_1  HOBBIES_1_001     11341        8.26   HOBBIES       1     001\n17     CA_1  HOBBIES_1_001     11342        8.26   HOBBIES       1     001\n18     CA_1  HOBBIES_1_001     11343        8.26   HOBBIES       1     001\n19     CA_1  HOBBIES_1_001     11344        8.26   HOBBIES       1     001",
      "text/html": "<div>\n<style scoped>\n    .dataframe tbody tr th:only-of-type {\n        vertical-align: middle;\n    }\n\n    .dataframe tbody tr th {\n        vertical-align: top;\n    }\n\n    .dataframe thead th {\n        text-align: right;\n    }\n</style>\n<table border=\"1\" class=\"dataframe\">\n  <thead>\n    <tr style=\"text-align: right;\">\n      <th></th>\n      <th>store_id</th>\n      <th>item_id</th>\n      <th>wm_yr_wk</th>\n      <th>sell_price</th>\n      <th>catergory</th>\n      <th>subtype</th>\n      <th>item_no</th>\n    </tr>\n  </thead>\n  <tbody>\n    <tr>\n      <th>0</th>\n      <td>CA_1</td>\n      <td>HOBBIES_1_001</td>\n      <td>11325</td>\n      <td>9.58</td>\n      <td>HOBBIES</td>\n      <td>1</td>\n      <td>001</td>\n    </tr>\n    <tr>\n      <th>1</th>\n      <td>CA_1</td>\n      <td>HOBBIES_1_001</td>\n      <td>11326</td>\n      <td>9.58</td>\n      <td>HOBBIES</td>\n      <td>1</td>\n      <td>001</td>\n    </tr>\n    <tr>\n      <th>2</th>\n      <td>CA_1</td>\n      <td>HOBBIES_1_001</td>\n      <td>11327</td>\n      <td>8.26</td>\n      <td>HOBBIES</td>\n      <td>1</td>\n      <td>001</td>\n    </tr>\n    <tr>\n      <th>3</th>\n      <td>CA_1</td>\n      <td>HOBBIES_1_001</td>\n      <td>11328</td>\n      <td>8.26</td>\n      <td>HOBBIES</td>\n      <td>1</td>\n      <td>001</td>\n    </tr>\n    <tr>\n      <th>4</th>\n      <td>CA_1</td>\n      <td>HOBBIES_1_001</td>\n      <td>11329</td>\n      <td>8.26</td>\n      <td>HOBBIES</td>\n      <td>1</td>\n      <td>001</td>\n    </tr>\n    <tr>\n      <th>5</th>\n      <td>CA_1</td>\n      <td>HOBBIES_1_001</td>\n      <td>11330</td>\n      <td>8.26</td>\n      <td>HOBBIES</td>\n      <td>1</td>\n      <td>001</td>\n    </tr>\n    <tr>\n      <th>6</th>\n      <td>CA_1</td>\n      <td>HOBBIES_1_001</td>\n      <td>11331</td>\n      <td>8.26</td>\n      <td>HOBBIES</td>\n      <td>1</td>\n      <td>001</td>\n    </tr>\n    <tr>\n      <th>7</th>\n      <td>CA_1</td>\n      <td>HOBBIES_1_001</td>\n      <td>11332</td>\n      <td>8.26</td>\n      <td>HOBBIES</td>\n      <td>1</td>\n      <td>001</td>\n    </tr>\n    <tr>\n      <th>8</th>\n      <td>CA_1</td>\n      <td>HOBBIES_1_001</td>\n      <td>11333</td>\n      <td>8.26</td>\n      <td>HOBBIES</td>\n      <td>1</td>\n      <td>001</td>\n    </tr>\n    <tr>\n      <th>9</th>\n      <td>CA_1</td>\n      <td>HOBBIES_1_001</td>\n      <td>11334</td>\n      <td>8.26</td>\n      <td>HOBBIES</td>\n      <td>1</td>\n      <td>001</td>\n    </tr>\n    <tr>\n      <th>10</th>\n      <td>CA_1</td>\n      <td>HOBBIES_1_001</td>\n      <td>11335</td>\n      <td>8.26</td>\n      <td>HOBBIES</td>\n      <td>1</td>\n      <td>001</td>\n    </tr>\n    <tr>\n      <th>11</th>\n      <td>CA_1</td>\n      <td>HOBBIES_1_001</td>\n      <td>11336</td>\n      <td>8.26</td>\n      <td>HOBBIES</td>\n      <td>1</td>\n      <td>001</td>\n    </tr>\n    <tr>\n      <th>12</th>\n      <td>CA_1</td>\n      <td>HOBBIES_1_001</td>\n      <td>11337</td>\n      <td>8.26</td>\n      <td>HOBBIES</td>\n      <td>1</td>\n      <td>001</td>\n    </tr>\n    <tr>\n      <th>13</th>\n      <td>CA_1</td>\n      <td>HOBBIES_1_001</td>\n      <td>11338</td>\n      <td>8.26</td>\n      <td>HOBBIES</td>\n      <td>1</td>\n      <td>001</td>\n    </tr>\n    <tr>\n      <th>14</th>\n      <td>CA_1</td>\n      <td>HOBBIES_1_001</td>\n      <td>11339</td>\n      <td>8.26</td>\n      <td>HOBBIES</td>\n      <td>1</td>\n      <td>001</td>\n    </tr>\n    <tr>\n      <th>15</th>\n      <td>CA_1</td>\n      <td>HOBBIES_1_001</td>\n      <td>11340</td>\n      <td>8.26</td>\n      <td>HOBBIES</td>\n      <td>1</td>\n      <td>001</td>\n    </tr>\n    <tr>\n      <th>16</th>\n      <td>CA_1</td>\n      <td>HOBBIES_1_001</td>\n      <td>11341</td>\n      <td>8.26</td>\n      <td>HOBBIES</td>\n      <td>1</td>\n      <td>001</td>\n    </tr>\n    <tr>\n      <th>17</th>\n      <td>CA_1</td>\n      <td>HOBBIES_1_001</td>\n      <td>11342</td>\n      <td>8.26</td>\n      <td>HOBBIES</td>\n      <td>1</td>\n      <td>001</td>\n    </tr>\n    <tr>\n      <th>18</th>\n      <td>CA_1</td>\n      <td>HOBBIES_1_001</td>\n      <td>11343</td>\n      <td>8.26</td>\n      <td>HOBBIES</td>\n      <td>1</td>\n      <td>001</td>\n    </tr>\n    <tr>\n      <th>19</th>\n      <td>CA_1</td>\n      <td>HOBBIES_1_001</td>\n      <td>11344</td>\n      <td>8.26</td>\n      <td>HOBBIES</td>\n      <td>1</td>\n      <td>001</td>\n    </tr>\n  </tbody>\n</table>\n</div>"
     },
     "execution_count": 7,
     "metadata": {},
     "output_type": "execute_result"
    }
   ],
   "source": [
    "sell_price\n"
   ],
   "metadata": {
    "collapsed": false,
    "pycharm": {
     "name": "#%%\n"
    }
   }
  },
  {
   "cell_type": "code",
   "execution_count": 9,
   "outputs": [
    {
     "data": {
      "text/plain": "           wm_yr_wk    sell_price\ncount  6.841121e+06  6.841121e+06\nmean   1.138294e+04  4.410952e+00\nstd    1.486100e+02  3.408814e+00\nmin    1.110100e+04  1.000000e-02\n25%    1.124700e+04  2.180000e+00\n50%    1.141100e+04  3.470000e+00\n75%    1.151700e+04  5.840000e+00\nmax    1.162100e+04  1.073200e+02",
      "text/html": "<div>\n<style scoped>\n    .dataframe tbody tr th:only-of-type {\n        vertical-align: middle;\n    }\n\n    .dataframe tbody tr th {\n        vertical-align: top;\n    }\n\n    .dataframe thead th {\n        text-align: right;\n    }\n</style>\n<table border=\"1\" class=\"dataframe\">\n  <thead>\n    <tr style=\"text-align: right;\">\n      <th></th>\n      <th>wm_yr_wk</th>\n      <th>sell_price</th>\n    </tr>\n  </thead>\n  <tbody>\n    <tr>\n      <th>count</th>\n      <td>6.841121e+06</td>\n      <td>6.841121e+06</td>\n    </tr>\n    <tr>\n      <th>mean</th>\n      <td>1.138294e+04</td>\n      <td>4.410952e+00</td>\n    </tr>\n    <tr>\n      <th>std</th>\n      <td>1.486100e+02</td>\n      <td>3.408814e+00</td>\n    </tr>\n    <tr>\n      <th>min</th>\n      <td>1.110100e+04</td>\n      <td>1.000000e-02</td>\n    </tr>\n    <tr>\n      <th>25%</th>\n      <td>1.124700e+04</td>\n      <td>2.180000e+00</td>\n    </tr>\n    <tr>\n      <th>50%</th>\n      <td>1.141100e+04</td>\n      <td>3.470000e+00</td>\n    </tr>\n    <tr>\n      <th>75%</th>\n      <td>1.151700e+04</td>\n      <td>5.840000e+00</td>\n    </tr>\n    <tr>\n      <th>max</th>\n      <td>1.162100e+04</td>\n      <td>1.073200e+02</td>\n    </tr>\n  </tbody>\n</table>\n</div>"
     },
     "execution_count": 9,
     "metadata": {},
     "output_type": "execute_result"
    }
   ],
   "source": [
    "sell_price.describe()\n"
   ],
   "metadata": {
    "collapsed": false,
    "pycharm": {
     "name": "#%%\n"
    }
   }
  },
  {
   "cell_type": "code",
   "execution_count": null,
   "outputs": [],
   "source": [],
   "metadata": {
    "collapsed": false,
    "pycharm": {
     "name": "#%%\n"
    }
   }
  },
  {
   "cell_type": "code",
   "execution_count": 20,
   "outputs": [
    {
     "data": {
      "text/plain": "0         632\n1         500\n2         308\n3        3331\n4        1888\n        ...  \n2241      932\n2242      301\n2243      775\n2244     2109\n2245    11950\nName: Total_Sales, Length: 140, dtype: int64"
     },
     "execution_count": 20,
     "metadata": {},
     "output_type": "execute_result"
    }
   ],
   "source": [
    "sales_train_evaluation['Total_Sales']=sales_train_evaluation.iloc[:,6:1946].sum(axis=1)\n",
    "grp_sale = sales_train_evaluation.groupby(\"dept_id\")\n",
    "grp_sale_agg =  grp_sale.aggregate(\"sum\")\n",
    "\n",
    "\n",
    "\n"
   ],
   "metadata": {
    "collapsed": false,
    "pycharm": {
     "name": "#%%\n"
    }
   }
  }
 ],
 "metadata": {
  "kernelspec": {
   "display_name": "Python 3",
   "language": "python",
   "name": "python3"
  },
  "language_info": {
   "codemirror_mode": {
    "name": "ipython",
    "version": 2
   },
   "file_extension": ".py",
   "mimetype": "text/x-python",
   "name": "python",
   "nbconvert_exporter": "python",
   "pygments_lexer": "ipython2",
   "version": "2.7.6"
  }
 },
 "nbformat": 4,
 "nbformat_minor": 0
}